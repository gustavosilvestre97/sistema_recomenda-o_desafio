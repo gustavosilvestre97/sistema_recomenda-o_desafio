{
  "nbformat": 4,
  "nbformat_minor": 0,
  "metadata": {
    "colab": {
      "name": "HAKATON.ipynb",
      "provenance": [],
      "authorship_tag": "ABX9TyO4j1dqv97QE6VimVIeB05E",
      "include_colab_link": true
    },
    "kernelspec": {
      "name": "python3",
      "display_name": "Python 3"
    },
    "language_info": {
      "name": "python"
    }
  },
  "cells": [
    {
      "cell_type": "markdown",
      "metadata": {
        "id": "view-in-github",
        "colab_type": "text"
      },
      "source": [
        "<a href=\"https://colab.research.google.com/github/gustavosilvestre97/sistema_recomenda-o_desafio/blob/main/Recomendacao_Razze_Dazzle.ipynb\" target=\"_parent\"><img src=\"https://colab.research.google.com/assets/colab-badge.svg\" alt=\"Open In Colab\"/></a>"
      ]
    },
    {
      "cell_type": "code",
      "metadata": {
        "id": "lOH6c13epJd5"
      },
      "source": [
        "import pandas as pd\n",
        "import numpy as np\n",
        "import seaborn as sn\n",
        "import matplotlib.pyplot as plt\n",
        "from sklearn.metrics.pairwise import cosine_similarity"
      ],
      "execution_count": 1,
      "outputs": []
    },
    {
      "cell_type": "code",
      "metadata": {
        "id": "d1OfB5LHpVfE"
      },
      "source": [
        "df_products = pd.read_csv(\"/content/DNC_products_dataset.csv\",index_col=0)\n",
        "df_order_reviews = pd.read_csv(\"/content/DNC_order_reviews_dataset.csv\", index_col=0)\n",
        "df_orders = pd.read_csv(\"/content/DNC_orders_dataset.csv\", index_col=0)\n",
        "df_order_items = pd.read_csv(\"/content/DNC_order_items_dataset.csv\", index_col=0)"
      ],
      "execution_count": 2,
      "outputs": []
    },
    {
      "cell_type": "code",
      "metadata": {
        "id": "TNu4FjKfpVch",
        "colab": {
          "base_uri": "https://localhost:8080/",
          "height": 225
        },
        "outputId": "e21d3399-c492-477a-b0a8-e387481ffe54"
      },
      "source": [
        "df_products.head()"
      ],
      "execution_count": 3,
      "outputs": [
        {
          "output_type": "execute_result",
          "data": {
            "text/html": [
              "<div>\n",
              "<style scoped>\n",
              "    .dataframe tbody tr th:only-of-type {\n",
              "        vertical-align: middle;\n",
              "    }\n",
              "\n",
              "    .dataframe tbody tr th {\n",
              "        vertical-align: top;\n",
              "    }\n",
              "\n",
              "    .dataframe thead th {\n",
              "        text-align: right;\n",
              "    }\n",
              "</style>\n",
              "<table border=\"1\" class=\"dataframe\">\n",
              "  <thead>\n",
              "    <tr style=\"text-align: right;\">\n",
              "      <th></th>\n",
              "      <th>product_id</th>\n",
              "      <th>product_category_name</th>\n",
              "      <th>product_name_lenght</th>\n",
              "      <th>product_description_lenght</th>\n",
              "      <th>product_weight_g</th>\n",
              "      <th>product_length_cm</th>\n",
              "      <th>product_height_cm</th>\n",
              "      <th>product_width_cm</th>\n",
              "    </tr>\n",
              "  </thead>\n",
              "  <tbody>\n",
              "    <tr>\n",
              "      <th>0</th>\n",
              "      <td>1e9e8ef04dbcff4541ed26657ea517e5</td>\n",
              "      <td>perfumaria</td>\n",
              "      <td>40.0</td>\n",
              "      <td>287.0</td>\n",
              "      <td>225.0</td>\n",
              "      <td>16.0</td>\n",
              "      <td>10.0</td>\n",
              "      <td>14.0</td>\n",
              "    </tr>\n",
              "    <tr>\n",
              "      <th>1</th>\n",
              "      <td>3aa071139cb16b67ca9e5dea641aaa2f</td>\n",
              "      <td>artes</td>\n",
              "      <td>44.0</td>\n",
              "      <td>276.0</td>\n",
              "      <td>1000.0</td>\n",
              "      <td>30.0</td>\n",
              "      <td>18.0</td>\n",
              "      <td>20.0</td>\n",
              "    </tr>\n",
              "    <tr>\n",
              "      <th>2</th>\n",
              "      <td>96bd76ec8810374ed1b65e291975717f</td>\n",
              "      <td>esporte_lazer</td>\n",
              "      <td>46.0</td>\n",
              "      <td>250.0</td>\n",
              "      <td>154.0</td>\n",
              "      <td>18.0</td>\n",
              "      <td>9.0</td>\n",
              "      <td>15.0</td>\n",
              "    </tr>\n",
              "    <tr>\n",
              "      <th>3</th>\n",
              "      <td>cef67bcfe19066a932b7673e239eb23d</td>\n",
              "      <td>bebes</td>\n",
              "      <td>27.0</td>\n",
              "      <td>261.0</td>\n",
              "      <td>371.0</td>\n",
              "      <td>26.0</td>\n",
              "      <td>4.0</td>\n",
              "      <td>26.0</td>\n",
              "    </tr>\n",
              "    <tr>\n",
              "      <th>4</th>\n",
              "      <td>9dc1a7de274444849c219cff195d0b71</td>\n",
              "      <td>utilidades_domesticas</td>\n",
              "      <td>37.0</td>\n",
              "      <td>402.0</td>\n",
              "      <td>625.0</td>\n",
              "      <td>20.0</td>\n",
              "      <td>17.0</td>\n",
              "      <td>13.0</td>\n",
              "    </tr>\n",
              "  </tbody>\n",
              "</table>\n",
              "</div>"
            ],
            "text/plain": [
              "                         product_id  ... product_width_cm\n",
              "0  1e9e8ef04dbcff4541ed26657ea517e5  ...             14.0\n",
              "1  3aa071139cb16b67ca9e5dea641aaa2f  ...             20.0\n",
              "2  96bd76ec8810374ed1b65e291975717f  ...             15.0\n",
              "3  cef67bcfe19066a932b7673e239eb23d  ...             26.0\n",
              "4  9dc1a7de274444849c219cff195d0b71  ...             13.0\n",
              "\n",
              "[5 rows x 8 columns]"
            ]
          },
          "metadata": {},
          "execution_count": 3
        }
      ]
    },
    {
      "cell_type": "code",
      "metadata": {
        "colab": {
          "base_uri": "https://localhost:8080/"
        },
        "id": "NjtKvUJhze42",
        "outputId": "cfecd4a2-cda0-4190-ac3f-304fe6d09c64"
      },
      "source": [
        "df_products['product_category_name'].unique()"
      ],
      "execution_count": 4,
      "outputs": [
        {
          "output_type": "execute_result",
          "data": {
            "text/plain": [
              "array(['perfumaria', 'artes', 'esporte_lazer', 'bebes',\n",
              "       'utilidades_domesticas', 'instrumentos_musicais', 'cool_stuff',\n",
              "       'moveis_decoracao', 'eletrodomesticos', 'brinquedos',\n",
              "       'cama_mesa_banho', 'construcao_ferramentas_seguranca',\n",
              "       'informatica_acessorios', 'beleza_saude', 'malas_acessorios',\n",
              "       'ferramentas_jardim', 'moveis_escritorio', 'automotivo',\n",
              "       'eletronicos', 'fashion_calcados', 'telefonia', 'papelaria',\n",
              "       'fashion_bolsas_e_acessorios', 'pcs', 'casa_construcao',\n",
              "       'relogios_presentes', 'construcao_ferramentas_construcao',\n",
              "       'pet_shop', 'eletroportateis', 'agro_industria_e_comercio', nan,\n",
              "       'moveis_sala', 'sinalizacao_e_seguranca', 'climatizacao',\n",
              "       'consoles_games', 'livros_interesse_geral',\n",
              "       'construcao_ferramentas_ferramentas',\n",
              "       'fashion_underwear_e_moda_praia', 'fashion_roupa_masculina',\n",
              "       'moveis_cozinha_area_de_servico_jantar_e_jardim',\n",
              "       'industria_comercio_e_negocios', 'telefonia_fixa',\n",
              "       'construcao_ferramentas_iluminacao', 'livros_tecnicos',\n",
              "       'eletrodomesticos_2', 'artigos_de_festas', 'bebidas',\n",
              "       'market_place', 'la_cuisine', 'construcao_ferramentas_jardim',\n",
              "       'fashion_roupa_feminina', 'casa_conforto', 'audio',\n",
              "       'alimentos_bebidas', 'musica', 'alimentos',\n",
              "       'tablets_impressao_imagem', 'livros_importados',\n",
              "       'portateis_casa_forno_e_cafe', 'fashion_esporte',\n",
              "       'artigos_de_natal', 'fashion_roupa_infanto_juvenil',\n",
              "       'dvds_blu_ray', 'artes_e_artesanato', 'pc_gamer', 'moveis_quarto',\n",
              "       'cine_foto', 'fraldas_higiene', 'flores', 'casa_conforto_2',\n",
              "       'portateis_cozinha_e_preparadores_de_alimentos',\n",
              "       'seguros_e_servicos', 'moveis_colchao_e_estofado',\n",
              "       'cds_dvds_musicais'], dtype=object)"
            ]
          },
          "metadata": {},
          "execution_count": 4
        }
      ]
    },
    {
      "cell_type": "code",
      "metadata": {
        "id": "84S8aeI3pVaO",
        "colab": {
          "base_uri": "https://localhost:8080/",
          "height": 205
        },
        "outputId": "366642a4-7d27-4d5e-d410-a0423e21a658"
      },
      "source": [
        "df_order_items.head()"
      ],
      "execution_count": 5,
      "outputs": [
        {
          "output_type": "execute_result",
          "data": {
            "text/html": [
              "<div>\n",
              "<style scoped>\n",
              "    .dataframe tbody tr th:only-of-type {\n",
              "        vertical-align: middle;\n",
              "    }\n",
              "\n",
              "    .dataframe tbody tr th {\n",
              "        vertical-align: top;\n",
              "    }\n",
              "\n",
              "    .dataframe thead th {\n",
              "        text-align: right;\n",
              "    }\n",
              "</style>\n",
              "<table border=\"1\" class=\"dataframe\">\n",
              "  <thead>\n",
              "    <tr style=\"text-align: right;\">\n",
              "      <th></th>\n",
              "      <th>order_id</th>\n",
              "      <th>order_item_id</th>\n",
              "      <th>product_id</th>\n",
              "      <th>price</th>\n",
              "    </tr>\n",
              "  </thead>\n",
              "  <tbody>\n",
              "    <tr>\n",
              "      <th>0</th>\n",
              "      <td>00010242fe8c5a6d1ba2dd792cb16214</td>\n",
              "      <td>1</td>\n",
              "      <td>4244733e06e7ecb4970a6e2683c13e61</td>\n",
              "      <td>58.90</td>\n",
              "    </tr>\n",
              "    <tr>\n",
              "      <th>1</th>\n",
              "      <td>00018f77f2f0320c557190d7a144bdd3</td>\n",
              "      <td>1</td>\n",
              "      <td>e5f2d52b802189ee658865ca93d83a8f</td>\n",
              "      <td>239.90</td>\n",
              "    </tr>\n",
              "    <tr>\n",
              "      <th>2</th>\n",
              "      <td>000229ec398224ef6ca0657da4fc703e</td>\n",
              "      <td>1</td>\n",
              "      <td>c777355d18b72b67abbeef9df44fd0fd</td>\n",
              "      <td>199.00</td>\n",
              "    </tr>\n",
              "    <tr>\n",
              "      <th>3</th>\n",
              "      <td>00024acbcdf0a6daa1e931b038114c75</td>\n",
              "      <td>1</td>\n",
              "      <td>7634da152a4610f1595efa32f14722fc</td>\n",
              "      <td>12.99</td>\n",
              "    </tr>\n",
              "    <tr>\n",
              "      <th>4</th>\n",
              "      <td>00042b26cf59d7ce69dfabb4e55b4fd9</td>\n",
              "      <td>1</td>\n",
              "      <td>ac6c3623068f30de03045865e4e10089</td>\n",
              "      <td>199.90</td>\n",
              "    </tr>\n",
              "  </tbody>\n",
              "</table>\n",
              "</div>"
            ],
            "text/plain": [
              "                           order_id  ...   price\n",
              "0  00010242fe8c5a6d1ba2dd792cb16214  ...   58.90\n",
              "1  00018f77f2f0320c557190d7a144bdd3  ...  239.90\n",
              "2  000229ec398224ef6ca0657da4fc703e  ...  199.00\n",
              "3  00024acbcdf0a6daa1e931b038114c75  ...   12.99\n",
              "4  00042b26cf59d7ce69dfabb4e55b4fd9  ...  199.90\n",
              "\n",
              "[5 rows x 4 columns]"
            ]
          },
          "metadata": {},
          "execution_count": 5
        }
      ]
    },
    {
      "cell_type": "code",
      "metadata": {
        "colab": {
          "base_uri": "https://localhost:8080/",
          "height": 299
        },
        "id": "fGwCOlxM0f81",
        "outputId": "06bf13f6-2beb-4449-bafb-4f1d88a222d6"
      },
      "source": [
        "df_order_items.describe()"
      ],
      "execution_count": 6,
      "outputs": [
        {
          "output_type": "execute_result",
          "data": {
            "text/html": [
              "<div>\n",
              "<style scoped>\n",
              "    .dataframe tbody tr th:only-of-type {\n",
              "        vertical-align: middle;\n",
              "    }\n",
              "\n",
              "    .dataframe tbody tr th {\n",
              "        vertical-align: top;\n",
              "    }\n",
              "\n",
              "    .dataframe thead th {\n",
              "        text-align: right;\n",
              "    }\n",
              "</style>\n",
              "<table border=\"1\" class=\"dataframe\">\n",
              "  <thead>\n",
              "    <tr style=\"text-align: right;\">\n",
              "      <th></th>\n",
              "      <th>order_item_id</th>\n",
              "      <th>price</th>\n",
              "    </tr>\n",
              "  </thead>\n",
              "  <tbody>\n",
              "    <tr>\n",
              "      <th>count</th>\n",
              "      <td>112650.000000</td>\n",
              "      <td>112650.000000</td>\n",
              "    </tr>\n",
              "    <tr>\n",
              "      <th>mean</th>\n",
              "      <td>1.197834</td>\n",
              "      <td>120.653739</td>\n",
              "    </tr>\n",
              "    <tr>\n",
              "      <th>std</th>\n",
              "      <td>0.705124</td>\n",
              "      <td>183.633928</td>\n",
              "    </tr>\n",
              "    <tr>\n",
              "      <th>min</th>\n",
              "      <td>1.000000</td>\n",
              "      <td>0.850000</td>\n",
              "    </tr>\n",
              "    <tr>\n",
              "      <th>25%</th>\n",
              "      <td>1.000000</td>\n",
              "      <td>39.900000</td>\n",
              "    </tr>\n",
              "    <tr>\n",
              "      <th>50%</th>\n",
              "      <td>1.000000</td>\n",
              "      <td>74.990000</td>\n",
              "    </tr>\n",
              "    <tr>\n",
              "      <th>75%</th>\n",
              "      <td>1.000000</td>\n",
              "      <td>134.900000</td>\n",
              "    </tr>\n",
              "    <tr>\n",
              "      <th>max</th>\n",
              "      <td>21.000000</td>\n",
              "      <td>6735.000000</td>\n",
              "    </tr>\n",
              "  </tbody>\n",
              "</table>\n",
              "</div>"
            ],
            "text/plain": [
              "       order_item_id          price\n",
              "count  112650.000000  112650.000000\n",
              "mean        1.197834     120.653739\n",
              "std         0.705124     183.633928\n",
              "min         1.000000       0.850000\n",
              "25%         1.000000      39.900000\n",
              "50%         1.000000      74.990000\n",
              "75%         1.000000     134.900000\n",
              "max        21.000000    6735.000000"
            ]
          },
          "metadata": {},
          "execution_count": 6
        }
      ]
    },
    {
      "cell_type": "code",
      "metadata": {
        "id": "je159-q5pVX2",
        "colab": {
          "base_uri": "https://localhost:8080/",
          "height": 205
        },
        "outputId": "4a67dff6-7847-46c8-932d-2e87fd411be9"
      },
      "source": [
        "df_orders.head()"
      ],
      "execution_count": 7,
      "outputs": [
        {
          "output_type": "execute_result",
          "data": {
            "text/html": [
              "<div>\n",
              "<style scoped>\n",
              "    .dataframe tbody tr th:only-of-type {\n",
              "        vertical-align: middle;\n",
              "    }\n",
              "\n",
              "    .dataframe tbody tr th {\n",
              "        vertical-align: top;\n",
              "    }\n",
              "\n",
              "    .dataframe thead th {\n",
              "        text-align: right;\n",
              "    }\n",
              "</style>\n",
              "<table border=\"1\" class=\"dataframe\">\n",
              "  <thead>\n",
              "    <tr style=\"text-align: right;\">\n",
              "      <th></th>\n",
              "      <th>order_id</th>\n",
              "      <th>customer_id</th>\n",
              "      <th>order_status</th>\n",
              "    </tr>\n",
              "  </thead>\n",
              "  <tbody>\n",
              "    <tr>\n",
              "      <th>0</th>\n",
              "      <td>e481f51cbdc54678b7cc49136f2d6af7</td>\n",
              "      <td>9ef432eb6251297304e76186b10a928d</td>\n",
              "      <td>delivered</td>\n",
              "    </tr>\n",
              "    <tr>\n",
              "      <th>1</th>\n",
              "      <td>53cdb2fc8bc7dce0b6741e2150273451</td>\n",
              "      <td>b0830fb4747a6c6d20dea0b8c802d7ef</td>\n",
              "      <td>delivered</td>\n",
              "    </tr>\n",
              "    <tr>\n",
              "      <th>2</th>\n",
              "      <td>47770eb9100c2d0c44946d9cf07ec65d</td>\n",
              "      <td>41ce2a54c0b03bf3443c3d931a367089</td>\n",
              "      <td>delivered</td>\n",
              "    </tr>\n",
              "    <tr>\n",
              "      <th>3</th>\n",
              "      <td>949d5b44dbf5de918fe9c16f97b45f8a</td>\n",
              "      <td>f88197465ea7920adcdbec7375364d82</td>\n",
              "      <td>delivered</td>\n",
              "    </tr>\n",
              "    <tr>\n",
              "      <th>4</th>\n",
              "      <td>ad21c59c0840e6cb83a9ceb5573f8159</td>\n",
              "      <td>8ab97904e6daea8866dbdbc4fb7aad2c</td>\n",
              "      <td>delivered</td>\n",
              "    </tr>\n",
              "  </tbody>\n",
              "</table>\n",
              "</div>"
            ],
            "text/plain": [
              "                           order_id  ... order_status\n",
              "0  e481f51cbdc54678b7cc49136f2d6af7  ...    delivered\n",
              "1  53cdb2fc8bc7dce0b6741e2150273451  ...    delivered\n",
              "2  47770eb9100c2d0c44946d9cf07ec65d  ...    delivered\n",
              "3  949d5b44dbf5de918fe9c16f97b45f8a  ...    delivered\n",
              "4  ad21c59c0840e6cb83a9ceb5573f8159  ...    delivered\n",
              "\n",
              "[5 rows x 3 columns]"
            ]
          },
          "metadata": {},
          "execution_count": 7
        }
      ]
    },
    {
      "cell_type": "code",
      "metadata": {
        "colab": {
          "base_uri": "https://localhost:8080/",
          "height": 205
        },
        "id": "KtfQLqSyvtbA",
        "outputId": "0442c98a-7d2a-47d8-900e-4e03d27a85f6"
      },
      "source": [
        "df_order_reviews.head()"
      ],
      "execution_count": 8,
      "outputs": [
        {
          "output_type": "execute_result",
          "data": {
            "text/html": [
              "<div>\n",
              "<style scoped>\n",
              "    .dataframe tbody tr th:only-of-type {\n",
              "        vertical-align: middle;\n",
              "    }\n",
              "\n",
              "    .dataframe tbody tr th {\n",
              "        vertical-align: top;\n",
              "    }\n",
              "\n",
              "    .dataframe thead th {\n",
              "        text-align: right;\n",
              "    }\n",
              "</style>\n",
              "<table border=\"1\" class=\"dataframe\">\n",
              "  <thead>\n",
              "    <tr style=\"text-align: right;\">\n",
              "      <th></th>\n",
              "      <th>review_id</th>\n",
              "      <th>order_id</th>\n",
              "      <th>review_score</th>\n",
              "    </tr>\n",
              "  </thead>\n",
              "  <tbody>\n",
              "    <tr>\n",
              "      <th>0</th>\n",
              "      <td>7bc2406110b926393aa56f80a40eba40</td>\n",
              "      <td>73fc7af87114b39712e6da79b0a377eb</td>\n",
              "      <td>4</td>\n",
              "    </tr>\n",
              "    <tr>\n",
              "      <th>1</th>\n",
              "      <td>80e641a11e56f04c1ad469d5645fdfde</td>\n",
              "      <td>a548910a1c6147796b98fdf73dbeba33</td>\n",
              "      <td>5</td>\n",
              "    </tr>\n",
              "    <tr>\n",
              "      <th>2</th>\n",
              "      <td>228ce5500dc1d8e020d8d1322874b6f0</td>\n",
              "      <td>f9e4b658b201a9f2ecdecbb34bed034b</td>\n",
              "      <td>5</td>\n",
              "    </tr>\n",
              "    <tr>\n",
              "      <th>3</th>\n",
              "      <td>e64fb393e7b32834bb789ff8bb30750e</td>\n",
              "      <td>658677c97b385a9be170737859d3511b</td>\n",
              "      <td>5</td>\n",
              "    </tr>\n",
              "    <tr>\n",
              "      <th>4</th>\n",
              "      <td>f7c4243c7fe1938f181bec41a392bdeb</td>\n",
              "      <td>8e6bfb81e283fa7e4f11123a3fb894f1</td>\n",
              "      <td>5</td>\n",
              "    </tr>\n",
              "  </tbody>\n",
              "</table>\n",
              "</div>"
            ],
            "text/plain": [
              "                          review_id  ... review_score\n",
              "0  7bc2406110b926393aa56f80a40eba40  ...            4\n",
              "1  80e641a11e56f04c1ad469d5645fdfde  ...            5\n",
              "2  228ce5500dc1d8e020d8d1322874b6f0  ...            5\n",
              "3  e64fb393e7b32834bb789ff8bb30750e  ...            5\n",
              "4  f7c4243c7fe1938f181bec41a392bdeb  ...            5\n",
              "\n",
              "[5 rows x 3 columns]"
            ]
          },
          "metadata": {},
          "execution_count": 8
        }
      ]
    },
    {
      "cell_type": "code",
      "metadata": {
        "colab": {
          "base_uri": "https://localhost:8080/",
          "height": 205
        },
        "id": "AJMVS2p31ckt",
        "outputId": "dad1e07c-baff-41d0-bcf5-02edfa7bc499"
      },
      "source": [
        "df2 = pd.merge(df_orders,df_order_reviews,how= 'left',on = 'order_id')\n",
        "df2.head()"
      ],
      "execution_count": 9,
      "outputs": [
        {
          "output_type": "execute_result",
          "data": {
            "text/html": [
              "<div>\n",
              "<style scoped>\n",
              "    .dataframe tbody tr th:only-of-type {\n",
              "        vertical-align: middle;\n",
              "    }\n",
              "\n",
              "    .dataframe tbody tr th {\n",
              "        vertical-align: top;\n",
              "    }\n",
              "\n",
              "    .dataframe thead th {\n",
              "        text-align: right;\n",
              "    }\n",
              "</style>\n",
              "<table border=\"1\" class=\"dataframe\">\n",
              "  <thead>\n",
              "    <tr style=\"text-align: right;\">\n",
              "      <th></th>\n",
              "      <th>order_id</th>\n",
              "      <th>customer_id</th>\n",
              "      <th>order_status</th>\n",
              "      <th>review_id</th>\n",
              "      <th>review_score</th>\n",
              "    </tr>\n",
              "  </thead>\n",
              "  <tbody>\n",
              "    <tr>\n",
              "      <th>0</th>\n",
              "      <td>e481f51cbdc54678b7cc49136f2d6af7</td>\n",
              "      <td>9ef432eb6251297304e76186b10a928d</td>\n",
              "      <td>delivered</td>\n",
              "      <td>a54f0611adc9ed256b57ede6b6eb5114</td>\n",
              "      <td>4.0</td>\n",
              "    </tr>\n",
              "    <tr>\n",
              "      <th>1</th>\n",
              "      <td>53cdb2fc8bc7dce0b6741e2150273451</td>\n",
              "      <td>b0830fb4747a6c6d20dea0b8c802d7ef</td>\n",
              "      <td>delivered</td>\n",
              "      <td>8d5266042046a06655c8db133d120ba5</td>\n",
              "      <td>4.0</td>\n",
              "    </tr>\n",
              "    <tr>\n",
              "      <th>2</th>\n",
              "      <td>47770eb9100c2d0c44946d9cf07ec65d</td>\n",
              "      <td>41ce2a54c0b03bf3443c3d931a367089</td>\n",
              "      <td>delivered</td>\n",
              "      <td>e73b67b67587f7644d5bd1a52deb1b01</td>\n",
              "      <td>5.0</td>\n",
              "    </tr>\n",
              "    <tr>\n",
              "      <th>3</th>\n",
              "      <td>949d5b44dbf5de918fe9c16f97b45f8a</td>\n",
              "      <td>f88197465ea7920adcdbec7375364d82</td>\n",
              "      <td>delivered</td>\n",
              "      <td>359d03e676b3c069f62cadba8dd3f6e8</td>\n",
              "      <td>5.0</td>\n",
              "    </tr>\n",
              "    <tr>\n",
              "      <th>4</th>\n",
              "      <td>ad21c59c0840e6cb83a9ceb5573f8159</td>\n",
              "      <td>8ab97904e6daea8866dbdbc4fb7aad2c</td>\n",
              "      <td>delivered</td>\n",
              "      <td>e50934924e227544ba8246aeb3770dd4</td>\n",
              "      <td>5.0</td>\n",
              "    </tr>\n",
              "  </tbody>\n",
              "</table>\n",
              "</div>"
            ],
            "text/plain": [
              "                           order_id  ... review_score\n",
              "0  e481f51cbdc54678b7cc49136f2d6af7  ...          4.0\n",
              "1  53cdb2fc8bc7dce0b6741e2150273451  ...          4.0\n",
              "2  47770eb9100c2d0c44946d9cf07ec65d  ...          5.0\n",
              "3  949d5b44dbf5de918fe9c16f97b45f8a  ...          5.0\n",
              "4  ad21c59c0840e6cb83a9ceb5573f8159  ...          5.0\n",
              "\n",
              "[5 rows x 5 columns]"
            ]
          },
          "metadata": {},
          "execution_count": 9
        }
      ]
    },
    {
      "cell_type": "code",
      "metadata": {
        "colab": {
          "base_uri": "https://localhost:8080/",
          "height": 225
        },
        "id": "z0lqUmQF8Jdw",
        "outputId": "f930b4c2-93dd-4fb4-b816-53e601ad10d4"
      },
      "source": [
        "df1 = pd.merge(df_order_items,df2, how='left', on = 'order_id')\n",
        "df1.head()"
      ],
      "execution_count": 10,
      "outputs": [
        {
          "output_type": "execute_result",
          "data": {
            "text/html": [
              "<div>\n",
              "<style scoped>\n",
              "    .dataframe tbody tr th:only-of-type {\n",
              "        vertical-align: middle;\n",
              "    }\n",
              "\n",
              "    .dataframe tbody tr th {\n",
              "        vertical-align: top;\n",
              "    }\n",
              "\n",
              "    .dataframe thead th {\n",
              "        text-align: right;\n",
              "    }\n",
              "</style>\n",
              "<table border=\"1\" class=\"dataframe\">\n",
              "  <thead>\n",
              "    <tr style=\"text-align: right;\">\n",
              "      <th></th>\n",
              "      <th>order_id</th>\n",
              "      <th>order_item_id</th>\n",
              "      <th>product_id</th>\n",
              "      <th>price</th>\n",
              "      <th>customer_id</th>\n",
              "      <th>order_status</th>\n",
              "      <th>review_id</th>\n",
              "      <th>review_score</th>\n",
              "    </tr>\n",
              "  </thead>\n",
              "  <tbody>\n",
              "    <tr>\n",
              "      <th>0</th>\n",
              "      <td>00010242fe8c5a6d1ba2dd792cb16214</td>\n",
              "      <td>1</td>\n",
              "      <td>4244733e06e7ecb4970a6e2683c13e61</td>\n",
              "      <td>58.90</td>\n",
              "      <td>3ce436f183e68e07877b285a838db11a</td>\n",
              "      <td>delivered</td>\n",
              "      <td>97ca439bc427b48bc1cd7177abe71365</td>\n",
              "      <td>5.0</td>\n",
              "    </tr>\n",
              "    <tr>\n",
              "      <th>1</th>\n",
              "      <td>00018f77f2f0320c557190d7a144bdd3</td>\n",
              "      <td>1</td>\n",
              "      <td>e5f2d52b802189ee658865ca93d83a8f</td>\n",
              "      <td>239.90</td>\n",
              "      <td>f6dd3ec061db4e3987629fe6b26e5cce</td>\n",
              "      <td>delivered</td>\n",
              "      <td>7b07bacd811c4117b742569b04ce3580</td>\n",
              "      <td>4.0</td>\n",
              "    </tr>\n",
              "    <tr>\n",
              "      <th>2</th>\n",
              "      <td>000229ec398224ef6ca0657da4fc703e</td>\n",
              "      <td>1</td>\n",
              "      <td>c777355d18b72b67abbeef9df44fd0fd</td>\n",
              "      <td>199.00</td>\n",
              "      <td>6489ae5e4333f3693df5ad4372dab6d3</td>\n",
              "      <td>delivered</td>\n",
              "      <td>0c5b33dea94867d1ac402749e5438e8b</td>\n",
              "      <td>5.0</td>\n",
              "    </tr>\n",
              "    <tr>\n",
              "      <th>3</th>\n",
              "      <td>00024acbcdf0a6daa1e931b038114c75</td>\n",
              "      <td>1</td>\n",
              "      <td>7634da152a4610f1595efa32f14722fc</td>\n",
              "      <td>12.99</td>\n",
              "      <td>d4eb9395c8c0431ee92fce09860c5a06</td>\n",
              "      <td>delivered</td>\n",
              "      <td>f4028d019cb58564807486a6aaf33817</td>\n",
              "      <td>4.0</td>\n",
              "    </tr>\n",
              "    <tr>\n",
              "      <th>4</th>\n",
              "      <td>00042b26cf59d7ce69dfabb4e55b4fd9</td>\n",
              "      <td>1</td>\n",
              "      <td>ac6c3623068f30de03045865e4e10089</td>\n",
              "      <td>199.90</td>\n",
              "      <td>58dbd0b2d70206bf40e62cd34e84d795</td>\n",
              "      <td>delivered</td>\n",
              "      <td>940144190dcba6351888cafa43f3a3a5</td>\n",
              "      <td>5.0</td>\n",
              "    </tr>\n",
              "  </tbody>\n",
              "</table>\n",
              "</div>"
            ],
            "text/plain": [
              "                           order_id  ...  review_score\n",
              "0  00010242fe8c5a6d1ba2dd792cb16214  ...           5.0\n",
              "1  00018f77f2f0320c557190d7a144bdd3  ...           4.0\n",
              "2  000229ec398224ef6ca0657da4fc703e  ...           5.0\n",
              "3  00024acbcdf0a6daa1e931b038114c75  ...           4.0\n",
              "4  00042b26cf59d7ce69dfabb4e55b4fd9  ...           5.0\n",
              "\n",
              "[5 rows x 8 columns]"
            ]
          },
          "metadata": {},
          "execution_count": 10
        }
      ]
    },
    {
      "cell_type": "code",
      "metadata": {
        "colab": {
          "base_uri": "https://localhost:8080/",
          "height": 225
        },
        "id": "xeexhzyD_Hb6",
        "outputId": "4fe911e9-4eb0-4546-9fd1-be6bd9c280db"
      },
      "source": [
        "df = pd.merge(df1,df_products,how='left',on = 'product_id')\n",
        "df.head()"
      ],
      "execution_count": 11,
      "outputs": [
        {
          "output_type": "execute_result",
          "data": {
            "text/html": [
              "<div>\n",
              "<style scoped>\n",
              "    .dataframe tbody tr th:only-of-type {\n",
              "        vertical-align: middle;\n",
              "    }\n",
              "\n",
              "    .dataframe tbody tr th {\n",
              "        vertical-align: top;\n",
              "    }\n",
              "\n",
              "    .dataframe thead th {\n",
              "        text-align: right;\n",
              "    }\n",
              "</style>\n",
              "<table border=\"1\" class=\"dataframe\">\n",
              "  <thead>\n",
              "    <tr style=\"text-align: right;\">\n",
              "      <th></th>\n",
              "      <th>order_id</th>\n",
              "      <th>order_item_id</th>\n",
              "      <th>product_id</th>\n",
              "      <th>price</th>\n",
              "      <th>customer_id</th>\n",
              "      <th>order_status</th>\n",
              "      <th>review_id</th>\n",
              "      <th>review_score</th>\n",
              "      <th>product_category_name</th>\n",
              "      <th>product_name_lenght</th>\n",
              "      <th>product_description_lenght</th>\n",
              "      <th>product_weight_g</th>\n",
              "      <th>product_length_cm</th>\n",
              "      <th>product_height_cm</th>\n",
              "      <th>product_width_cm</th>\n",
              "    </tr>\n",
              "  </thead>\n",
              "  <tbody>\n",
              "    <tr>\n",
              "      <th>0</th>\n",
              "      <td>00010242fe8c5a6d1ba2dd792cb16214</td>\n",
              "      <td>1</td>\n",
              "      <td>4244733e06e7ecb4970a6e2683c13e61</td>\n",
              "      <td>58.90</td>\n",
              "      <td>3ce436f183e68e07877b285a838db11a</td>\n",
              "      <td>delivered</td>\n",
              "      <td>97ca439bc427b48bc1cd7177abe71365</td>\n",
              "      <td>5.0</td>\n",
              "      <td>cool_stuff</td>\n",
              "      <td>58.0</td>\n",
              "      <td>598.0</td>\n",
              "      <td>650.0</td>\n",
              "      <td>28.0</td>\n",
              "      <td>9.0</td>\n",
              "      <td>14.0</td>\n",
              "    </tr>\n",
              "    <tr>\n",
              "      <th>1</th>\n",
              "      <td>00018f77f2f0320c557190d7a144bdd3</td>\n",
              "      <td>1</td>\n",
              "      <td>e5f2d52b802189ee658865ca93d83a8f</td>\n",
              "      <td>239.90</td>\n",
              "      <td>f6dd3ec061db4e3987629fe6b26e5cce</td>\n",
              "      <td>delivered</td>\n",
              "      <td>7b07bacd811c4117b742569b04ce3580</td>\n",
              "      <td>4.0</td>\n",
              "      <td>pet_shop</td>\n",
              "      <td>56.0</td>\n",
              "      <td>239.0</td>\n",
              "      <td>30000.0</td>\n",
              "      <td>50.0</td>\n",
              "      <td>30.0</td>\n",
              "      <td>40.0</td>\n",
              "    </tr>\n",
              "    <tr>\n",
              "      <th>2</th>\n",
              "      <td>000229ec398224ef6ca0657da4fc703e</td>\n",
              "      <td>1</td>\n",
              "      <td>c777355d18b72b67abbeef9df44fd0fd</td>\n",
              "      <td>199.00</td>\n",
              "      <td>6489ae5e4333f3693df5ad4372dab6d3</td>\n",
              "      <td>delivered</td>\n",
              "      <td>0c5b33dea94867d1ac402749e5438e8b</td>\n",
              "      <td>5.0</td>\n",
              "      <td>moveis_decoracao</td>\n",
              "      <td>59.0</td>\n",
              "      <td>695.0</td>\n",
              "      <td>3050.0</td>\n",
              "      <td>33.0</td>\n",
              "      <td>13.0</td>\n",
              "      <td>33.0</td>\n",
              "    </tr>\n",
              "    <tr>\n",
              "      <th>3</th>\n",
              "      <td>00024acbcdf0a6daa1e931b038114c75</td>\n",
              "      <td>1</td>\n",
              "      <td>7634da152a4610f1595efa32f14722fc</td>\n",
              "      <td>12.99</td>\n",
              "      <td>d4eb9395c8c0431ee92fce09860c5a06</td>\n",
              "      <td>delivered</td>\n",
              "      <td>f4028d019cb58564807486a6aaf33817</td>\n",
              "      <td>4.0</td>\n",
              "      <td>perfumaria</td>\n",
              "      <td>42.0</td>\n",
              "      <td>480.0</td>\n",
              "      <td>200.0</td>\n",
              "      <td>16.0</td>\n",
              "      <td>10.0</td>\n",
              "      <td>15.0</td>\n",
              "    </tr>\n",
              "    <tr>\n",
              "      <th>4</th>\n",
              "      <td>00042b26cf59d7ce69dfabb4e55b4fd9</td>\n",
              "      <td>1</td>\n",
              "      <td>ac6c3623068f30de03045865e4e10089</td>\n",
              "      <td>199.90</td>\n",
              "      <td>58dbd0b2d70206bf40e62cd34e84d795</td>\n",
              "      <td>delivered</td>\n",
              "      <td>940144190dcba6351888cafa43f3a3a5</td>\n",
              "      <td>5.0</td>\n",
              "      <td>ferramentas_jardim</td>\n",
              "      <td>59.0</td>\n",
              "      <td>409.0</td>\n",
              "      <td>3750.0</td>\n",
              "      <td>35.0</td>\n",
              "      <td>40.0</td>\n",
              "      <td>30.0</td>\n",
              "    </tr>\n",
              "  </tbody>\n",
              "</table>\n",
              "</div>"
            ],
            "text/plain": [
              "                           order_id  ...  product_width_cm\n",
              "0  00010242fe8c5a6d1ba2dd792cb16214  ...              14.0\n",
              "1  00018f77f2f0320c557190d7a144bdd3  ...              40.0\n",
              "2  000229ec398224ef6ca0657da4fc703e  ...              33.0\n",
              "3  00024acbcdf0a6daa1e931b038114c75  ...              15.0\n",
              "4  00042b26cf59d7ce69dfabb4e55b4fd9  ...              30.0\n",
              "\n",
              "[5 rows x 15 columns]"
            ]
          },
          "metadata": {},
          "execution_count": 11
        }
      ]
    },
    {
      "cell_type": "code",
      "metadata": {
        "colab": {
          "base_uri": "https://localhost:8080/"
        },
        "id": "F3QmbAQp_tlJ",
        "outputId": "0569efa5-49f0-4f56-9956-eec4e68ff535"
      },
      "source": [
        "df2.shape"
      ],
      "execution_count": 12,
      "outputs": [
        {
          "output_type": "execute_result",
          "data": {
            "text/plain": [
              "(99992, 5)"
            ]
          },
          "metadata": {},
          "execution_count": 12
        }
      ]
    },
    {
      "cell_type": "code",
      "metadata": {
        "colab": {
          "base_uri": "https://localhost:8080/"
        },
        "id": "sxfumzlr8nQD",
        "outputId": "8fefb599-097c-4989-f761-773c8243c4a2"
      },
      "source": [
        "df2.isna().sum()"
      ],
      "execution_count": 13,
      "outputs": [
        {
          "output_type": "execute_result",
          "data": {
            "text/plain": [
              "order_id          0\n",
              "customer_id       0\n",
              "order_status      0\n",
              "review_id       768\n",
              "review_score    768\n",
              "dtype: int64"
            ]
          },
          "metadata": {},
          "execution_count": 13
        }
      ]
    },
    {
      "cell_type": "code",
      "metadata": {
        "colab": {
          "base_uri": "https://localhost:8080/",
          "height": 299
        },
        "id": "Vcz79Y3dzINz",
        "outputId": "ee5f1dd9-eff8-4721-b2db-239760f792ba"
      },
      "source": [
        "df_order_reviews.describe()"
      ],
      "execution_count": 14,
      "outputs": [
        {
          "output_type": "execute_result",
          "data": {
            "text/html": [
              "<div>\n",
              "<style scoped>\n",
              "    .dataframe tbody tr th:only-of-type {\n",
              "        vertical-align: middle;\n",
              "    }\n",
              "\n",
              "    .dataframe tbody tr th {\n",
              "        vertical-align: top;\n",
              "    }\n",
              "\n",
              "    .dataframe thead th {\n",
              "        text-align: right;\n",
              "    }\n",
              "</style>\n",
              "<table border=\"1\" class=\"dataframe\">\n",
              "  <thead>\n",
              "    <tr style=\"text-align: right;\">\n",
              "      <th></th>\n",
              "      <th>review_score</th>\n",
              "    </tr>\n",
              "  </thead>\n",
              "  <tbody>\n",
              "    <tr>\n",
              "      <th>count</th>\n",
              "      <td>99224.000000</td>\n",
              "    </tr>\n",
              "    <tr>\n",
              "      <th>mean</th>\n",
              "      <td>4.086421</td>\n",
              "    </tr>\n",
              "    <tr>\n",
              "      <th>std</th>\n",
              "      <td>1.347579</td>\n",
              "    </tr>\n",
              "    <tr>\n",
              "      <th>min</th>\n",
              "      <td>1.000000</td>\n",
              "    </tr>\n",
              "    <tr>\n",
              "      <th>25%</th>\n",
              "      <td>4.000000</td>\n",
              "    </tr>\n",
              "    <tr>\n",
              "      <th>50%</th>\n",
              "      <td>5.000000</td>\n",
              "    </tr>\n",
              "    <tr>\n",
              "      <th>75%</th>\n",
              "      <td>5.000000</td>\n",
              "    </tr>\n",
              "    <tr>\n",
              "      <th>max</th>\n",
              "      <td>5.000000</td>\n",
              "    </tr>\n",
              "  </tbody>\n",
              "</table>\n",
              "</div>"
            ],
            "text/plain": [
              "       review_score\n",
              "count  99224.000000\n",
              "mean       4.086421\n",
              "std        1.347579\n",
              "min        1.000000\n",
              "25%        4.000000\n",
              "50%        5.000000\n",
              "75%        5.000000\n",
              "max        5.000000"
            ]
          },
          "metadata": {},
          "execution_count": 14
        }
      ]
    },
    {
      "cell_type": "code",
      "metadata": {
        "id": "8ePQdo40pVVa",
        "colab": {
          "base_uri": "https://localhost:8080/"
        },
        "outputId": "3db227e3-2e15-480a-efa2-6128a4ddafc0"
      },
      "source": [
        "print(df_order_items.shape)\n",
        "print(df_order_reviews.shape)\n",
        "print(df_orders.shape)\n",
        "print(df_products.shape)"
      ],
      "execution_count": 15,
      "outputs": [
        {
          "output_type": "stream",
          "name": "stdout",
          "text": [
            "(112650, 4)\n",
            "(99224, 3)\n",
            "(99441, 3)\n",
            "(32951, 8)\n"
          ]
        }
      ]
    },
    {
      "cell_type": "code",
      "metadata": {
        "id": "CdMIU1kXpVOC",
        "colab": {
          "base_uri": "https://localhost:8080/"
        },
        "outputId": "32bba0af-fbb7-4670-8993-f6727a371cf6"
      },
      "source": [
        "print(\"DF ORDER ITENS\")\n",
        "print(df_order_items.dtypes)\n",
        "print('-'*20)\n",
        "print('DF ORDER REVIEWS')\n",
        "print(df_order_reviews.dtypes)\n",
        "print('-'*20)\n",
        "print('DF ORDERS')\n",
        "print(df_orders.dtypes)\n",
        "print('-'*20)\n",
        "print('DF PRODUCTS')\n",
        "print(df_products.dtypes)"
      ],
      "execution_count": 16,
      "outputs": [
        {
          "output_type": "stream",
          "name": "stdout",
          "text": [
            "DF ORDER ITENS\n",
            "order_id          object\n",
            "order_item_id      int64\n",
            "product_id        object\n",
            "price            float64\n",
            "dtype: object\n",
            "--------------------\n",
            "DF ORDER REVIEWS\n",
            "review_id       object\n",
            "order_id        object\n",
            "review_score     int64\n",
            "dtype: object\n",
            "--------------------\n",
            "DF ORDERS\n",
            "order_id        object\n",
            "customer_id     object\n",
            "order_status    object\n",
            "dtype: object\n",
            "--------------------\n",
            "DF PRODUCTS\n",
            "product_id                     object\n",
            "product_category_name          object\n",
            "product_name_lenght           float64\n",
            "product_description_lenght    float64\n",
            "product_weight_g              float64\n",
            "product_length_cm             float64\n",
            "product_height_cm             float64\n",
            "product_width_cm              float64\n",
            "dtype: object\n"
          ]
        }
      ]
    },
    {
      "cell_type": "code",
      "metadata": {
        "colab": {
          "base_uri": "https://localhost:8080/"
        },
        "id": "TljdDDXHi33j",
        "outputId": "e5d39e8e-f3e7-4323-a8b5-0928d36943f8"
      },
      "source": [
        "df.isna().sum()"
      ],
      "execution_count": 17,
      "outputs": [
        {
          "output_type": "execute_result",
          "data": {
            "text/plain": [
              "order_id                         0\n",
              "order_item_id                    0\n",
              "product_id                       0\n",
              "price                            0\n",
              "customer_id                      0\n",
              "order_status                     0\n",
              "review_id                      942\n",
              "review_score                   942\n",
              "product_category_name         1612\n",
              "product_name_lenght           1612\n",
              "product_description_lenght    1612\n",
              "product_weight_g                18\n",
              "product_length_cm               18\n",
              "product_height_cm               18\n",
              "product_width_cm                18\n",
              "dtype: int64"
            ]
          },
          "metadata": {},
          "execution_count": 17
        }
      ]
    },
    {
      "cell_type": "code",
      "metadata": {
        "id": "IVaYrDfZjCSW"
      },
      "source": [
        "df = df.drop(['product_name_lenght','product_description_lenght','product_weight_g','product_length_cm','product_width_cm','product_height_cm'], axis=1)"
      ],
      "execution_count": 18,
      "outputs": []
    },
    {
      "cell_type": "code",
      "metadata": {
        "colab": {
          "base_uri": "https://localhost:8080/"
        },
        "id": "eGuDE2VMkc9e",
        "outputId": "286cca82-e317-4890-afb8-361e772571f8"
      },
      "source": [
        "df.isna().sum()"
      ],
      "execution_count": 19,
      "outputs": [
        {
          "output_type": "execute_result",
          "data": {
            "text/plain": [
              "order_id                    0\n",
              "order_item_id               0\n",
              "product_id                  0\n",
              "price                       0\n",
              "customer_id                 0\n",
              "order_status                0\n",
              "review_id                 942\n",
              "review_score              942\n",
              "product_category_name    1612\n",
              "dtype: int64"
            ]
          },
          "metadata": {},
          "execution_count": 19
        }
      ]
    },
    {
      "cell_type": "markdown",
      "metadata": {
        "id": "t4U208ApFFqe"
      },
      "source": [
        "# Itens *principais*"
      ]
    },
    {
      "cell_type": "code",
      "metadata": {
        "colab": {
          "base_uri": "https://localhost:8080/",
          "height": 393
        },
        "id": "5psyb6zCFFEn",
        "outputId": "e10ea5df-eee4-4d36-826b-7c669eceeac4"
      },
      "source": [
        "itens_sum = pd.DataFrame(df.groupby(['product_id'])['review_score'].count())\n",
        "top10 = itens_sum.sort_values('review_score', ascending = False).head(10) \n",
        "top10\n",
        "\n"
      ],
      "execution_count": 20,
      "outputs": [
        {
          "output_type": "execute_result",
          "data": {
            "text/html": [
              "<div>\n",
              "<style scoped>\n",
              "    .dataframe tbody tr th:only-of-type {\n",
              "        vertical-align: middle;\n",
              "    }\n",
              "\n",
              "    .dataframe tbody tr th {\n",
              "        vertical-align: top;\n",
              "    }\n",
              "\n",
              "    .dataframe thead th {\n",
              "        text-align: right;\n",
              "    }\n",
              "</style>\n",
              "<table border=\"1\" class=\"dataframe\">\n",
              "  <thead>\n",
              "    <tr style=\"text-align: right;\">\n",
              "      <th></th>\n",
              "      <th>review_score</th>\n",
              "    </tr>\n",
              "    <tr>\n",
              "      <th>product_id</th>\n",
              "      <th></th>\n",
              "    </tr>\n",
              "  </thead>\n",
              "  <tbody>\n",
              "    <tr>\n",
              "      <th>aca2eb7d00ea1a7b8ebd4e68314663af</th>\n",
              "      <td>524</td>\n",
              "    </tr>\n",
              "    <tr>\n",
              "      <th>422879e10f46682990de24d770e7f83d</th>\n",
              "      <td>486</td>\n",
              "    </tr>\n",
              "    <tr>\n",
              "      <th>99a4788cb24856965c36a24e339b6058</th>\n",
              "      <td>482</td>\n",
              "    </tr>\n",
              "    <tr>\n",
              "      <th>389d119b48cf3043d311335e499d9c6b</th>\n",
              "      <td>391</td>\n",
              "    </tr>\n",
              "    <tr>\n",
              "      <th>368c6c730842d78016ad823897a372db</th>\n",
              "      <td>388</td>\n",
              "    </tr>\n",
              "    <tr>\n",
              "      <th>53759a2ecddad2bb87a079a1f1519f73</th>\n",
              "      <td>373</td>\n",
              "    </tr>\n",
              "    <tr>\n",
              "      <th>d1c427060a0f73f6b889a5c7c61f2ac4</th>\n",
              "      <td>340</td>\n",
              "    </tr>\n",
              "    <tr>\n",
              "      <th>53b36df67ebb7c41585e8d54d6772e08</th>\n",
              "      <td>320</td>\n",
              "    </tr>\n",
              "    <tr>\n",
              "      <th>154e7e31ebfa092203795c972e5804a6</th>\n",
              "      <td>292</td>\n",
              "    </tr>\n",
              "    <tr>\n",
              "      <th>3dd2a17168ec895c781a9191c1e95ad7</th>\n",
              "      <td>272</td>\n",
              "    </tr>\n",
              "  </tbody>\n",
              "</table>\n",
              "</div>"
            ],
            "text/plain": [
              "                                  review_score\n",
              "product_id                                    \n",
              "aca2eb7d00ea1a7b8ebd4e68314663af           524\n",
              "422879e10f46682990de24d770e7f83d           486\n",
              "99a4788cb24856965c36a24e339b6058           482\n",
              "389d119b48cf3043d311335e499d9c6b           391\n",
              "368c6c730842d78016ad823897a372db           388\n",
              "53759a2ecddad2bb87a079a1f1519f73           373\n",
              "d1c427060a0f73f6b889a5c7c61f2ac4           340\n",
              "53b36df67ebb7c41585e8d54d6772e08           320\n",
              "154e7e31ebfa092203795c972e5804a6           292\n",
              "3dd2a17168ec895c781a9191c1e95ad7           272"
            ]
          },
          "metadata": {},
          "execution_count": 20
        }
      ]
    },
    {
      "cell_type": "markdown",
      "metadata": {
        "id": "jb0R5m0EHWbL"
      },
      "source": [
        "#Principais categorias"
      ]
    },
    {
      "cell_type": "code",
      "metadata": {
        "colab": {
          "base_uri": "https://localhost:8080/",
          "height": 393
        },
        "id": "jGvBzMhjHYll",
        "outputId": "6ea32c46-ce66-478e-9996-c939a7f7552d"
      },
      "source": [
        "categ_sum = pd.DataFrame(df.groupby(['product_category_name'])['review_score'].sum())\n",
        "princ_categ = categ_sum.sort_values('review_score', ascending = False).head(10)\n",
        "princ_categ"
      ],
      "execution_count": 21,
      "outputs": [
        {
          "output_type": "execute_result",
          "data": {
            "text/html": [
              "<div>\n",
              "<style scoped>\n",
              "    .dataframe tbody tr th:only-of-type {\n",
              "        vertical-align: middle;\n",
              "    }\n",
              "\n",
              "    .dataframe tbody tr th {\n",
              "        vertical-align: top;\n",
              "    }\n",
              "\n",
              "    .dataframe thead th {\n",
              "        text-align: right;\n",
              "    }\n",
              "</style>\n",
              "<table border=\"1\" class=\"dataframe\">\n",
              "  <thead>\n",
              "    <tr style=\"text-align: right;\">\n",
              "      <th></th>\n",
              "      <th>review_score</th>\n",
              "    </tr>\n",
              "    <tr>\n",
              "      <th>product_category_name</th>\n",
              "      <th></th>\n",
              "    </tr>\n",
              "  </thead>\n",
              "  <tbody>\n",
              "    <tr>\n",
              "      <th>cama_mesa_banho</th>\n",
              "      <td>43386.0</td>\n",
              "    </tr>\n",
              "    <tr>\n",
              "      <th>beleza_saude</th>\n",
              "      <td>39957.0</td>\n",
              "    </tr>\n",
              "    <tr>\n",
              "      <th>esporte_lazer</th>\n",
              "      <td>35493.0</td>\n",
              "    </tr>\n",
              "    <tr>\n",
              "      <th>moveis_decoracao</th>\n",
              "      <td>32520.0</td>\n",
              "    </tr>\n",
              "    <tr>\n",
              "      <th>informatica_acessorios</th>\n",
              "      <td>30853.0</td>\n",
              "    </tr>\n",
              "    <tr>\n",
              "      <th>utilidades_domesticas</th>\n",
              "      <td>28154.0</td>\n",
              "    </tr>\n",
              "    <tr>\n",
              "      <th>relogios_presentes</th>\n",
              "      <td>23914.0</td>\n",
              "    </tr>\n",
              "    <tr>\n",
              "      <th>telefonia</th>\n",
              "      <td>17828.0</td>\n",
              "    </tr>\n",
              "    <tr>\n",
              "      <th>ferramentas_jardim</th>\n",
              "      <td>17501.0</td>\n",
              "    </tr>\n",
              "    <tr>\n",
              "      <th>automotivo</th>\n",
              "      <td>17128.0</td>\n",
              "    </tr>\n",
              "  </tbody>\n",
              "</table>\n",
              "</div>"
            ],
            "text/plain": [
              "                        review_score\n",
              "product_category_name               \n",
              "cama_mesa_banho              43386.0\n",
              "beleza_saude                 39957.0\n",
              "esporte_lazer                35493.0\n",
              "moveis_decoracao             32520.0\n",
              "informatica_acessorios       30853.0\n",
              "utilidades_domesticas        28154.0\n",
              "relogios_presentes           23914.0\n",
              "telefonia                    17828.0\n",
              "ferramentas_jardim           17501.0\n",
              "automotivo                   17128.0"
            ]
          },
          "metadata": {},
          "execution_count": 21
        }
      ]
    },
    {
      "cell_type": "markdown",
      "metadata": {
        "id": "BIKEEu6-spBd"
      },
      "source": [
        "#Melhores produtos por categoria"
      ]
    },
    {
      "cell_type": "code",
      "metadata": {
        "colab": {
          "base_uri": "https://localhost:8080/",
          "height": 1000
        },
        "id": "mVOPCLfdxWcf",
        "outputId": "e57c152f-5713-4c1a-eafa-8813bba8bde8"
      },
      "source": [
        "cmb = pd.DataFrame(df.groupby(['product_category_name','product_id'])['review_score'].sum())\n",
        "cmb = cmb.sort_values('review_score',ascending=False)\n",
        "cmb.head(50)"
      ],
      "execution_count": 23,
      "outputs": [
        {
          "output_type": "execute_result",
          "data": {
            "text/html": [
              "<div>\n",
              "<style scoped>\n",
              "    .dataframe tbody tr th:only-of-type {\n",
              "        vertical-align: middle;\n",
              "    }\n",
              "\n",
              "    .dataframe tbody tr th {\n",
              "        vertical-align: top;\n",
              "    }\n",
              "\n",
              "    .dataframe thead th {\n",
              "        text-align: right;\n",
              "    }\n",
              "</style>\n",
              "<table border=\"1\" class=\"dataframe\">\n",
              "  <thead>\n",
              "    <tr style=\"text-align: right;\">\n",
              "      <th></th>\n",
              "      <th></th>\n",
              "      <th>review_score</th>\n",
              "    </tr>\n",
              "    <tr>\n",
              "      <th>product_category_name</th>\n",
              "      <th>product_id</th>\n",
              "      <th></th>\n",
              "    </tr>\n",
              "  </thead>\n",
              "  <tbody>\n",
              "    <tr>\n",
              "      <th>moveis_decoracao</th>\n",
              "      <th>aca2eb7d00ea1a7b8ebd4e68314663af</th>\n",
              "      <td>2106.0</td>\n",
              "    </tr>\n",
              "    <tr>\n",
              "      <th>ferramentas_jardim</th>\n",
              "      <th>422879e10f46682990de24d770e7f83d</th>\n",
              "      <td>1918.0</td>\n",
              "    </tr>\n",
              "    <tr>\n",
              "      <th>cama_mesa_banho</th>\n",
              "      <th>99a4788cb24856965c36a24e339b6058</th>\n",
              "      <td>1879.0</td>\n",
              "    </tr>\n",
              "    <tr>\n",
              "      <th rowspan=\"3\" valign=\"top\">ferramentas_jardim</th>\n",
              "      <th>389d119b48cf3043d311335e499d9c6b</th>\n",
              "      <td>1610.0</td>\n",
              "    </tr>\n",
              "    <tr>\n",
              "      <th>368c6c730842d78016ad823897a372db</th>\n",
              "      <td>1522.0</td>\n",
              "    </tr>\n",
              "    <tr>\n",
              "      <th>53759a2ecddad2bb87a079a1f1519f73</th>\n",
              "      <td>1443.0</td>\n",
              "    </tr>\n",
              "    <tr>\n",
              "      <th>informatica_acessorios</th>\n",
              "      <th>d1c427060a0f73f6b889a5c7c61f2ac4</th>\n",
              "      <td>1426.0</td>\n",
              "    </tr>\n",
              "    <tr>\n",
              "      <th>relogios_presentes</th>\n",
              "      <th>53b36df67ebb7c41585e8d54d6772e08</th>\n",
              "      <td>1341.0</td>\n",
              "    </tr>\n",
              "    <tr>\n",
              "      <th>beleza_saude</th>\n",
              "      <th>154e7e31ebfa092203795c972e5804a6</th>\n",
              "      <td>1260.0</td>\n",
              "    </tr>\n",
              "    <tr>\n",
              "      <th>informatica_acessorios</th>\n",
              "      <th>3dd2a17168ec895c781a9191c1e95ad7</th>\n",
              "      <td>1145.0</td>\n",
              "    </tr>\n",
              "    <tr>\n",
              "      <th rowspan=\"2\" valign=\"top\">beleza_saude</th>\n",
              "      <th>2b4609f8948be18874494203496bc318</th>\n",
              "      <td>1095.0</td>\n",
              "    </tr>\n",
              "    <tr>\n",
              "      <th>7c1bd920dbdf22470b68bde975dd3ccf</th>\n",
              "      <td>911.0</td>\n",
              "    </tr>\n",
              "    <tr>\n",
              "      <th>relogios_presentes</th>\n",
              "      <th>a62e25e09e05e6faf31d90c6ec1aa3d1</th>\n",
              "      <td>868.0</td>\n",
              "    </tr>\n",
              "    <tr>\n",
              "      <th>beleza_saude</th>\n",
              "      <th>bb50f2e236e5eea0100680137654686c</th>\n",
              "      <td>828.0</td>\n",
              "    </tr>\n",
              "    <tr>\n",
              "      <th>relogios_presentes</th>\n",
              "      <th>e0d64dcfaa3b6db5c54ca298ae101d05</th>\n",
              "      <td>729.0</td>\n",
              "    </tr>\n",
              "    <tr>\n",
              "      <th>utilidades_domesticas</th>\n",
              "      <th>42a2c92a0979a949ca4ea89ec5c7b934</th>\n",
              "      <td>716.0</td>\n",
              "    </tr>\n",
              "    <tr>\n",
              "      <th>beleza_saude</th>\n",
              "      <th>6cdd53843498f92890544667809f1595</th>\n",
              "      <td>669.0</td>\n",
              "    </tr>\n",
              "    <tr>\n",
              "      <th>cama_mesa_banho</th>\n",
              "      <th>f1c7f353075ce59d8a6f3cf58f419c9c</th>\n",
              "      <td>665.0</td>\n",
              "    </tr>\n",
              "    <tr>\n",
              "      <th>beleza_saude</th>\n",
              "      <th>437c05a395e9e47f9762e677a7068ce7</th>\n",
              "      <td>643.0</td>\n",
              "    </tr>\n",
              "    <tr>\n",
              "      <th>informatica_acessorios</th>\n",
              "      <th>e53e557d5a159f5aa2c5e995dfdf244b</th>\n",
              "      <td>641.0</td>\n",
              "    </tr>\n",
              "    <tr>\n",
              "      <th>beleza_saude</th>\n",
              "      <th>19c91ef95d509ea33eda93495c4d3481</th>\n",
              "      <td>638.0</td>\n",
              "    </tr>\n",
              "    <tr>\n",
              "      <th>casa_conforto</th>\n",
              "      <th>35afc973633aaeb6b877ff57b2793310</th>\n",
              "      <td>638.0</td>\n",
              "    </tr>\n",
              "    <tr>\n",
              "      <th>ferramentas_jardim</th>\n",
              "      <th>c4baedd846ed09b85f78a781b522f126</th>\n",
              "      <td>626.0</td>\n",
              "    </tr>\n",
              "    <tr>\n",
              "      <th>beleza_saude</th>\n",
              "      <th>e0cf79767c5b016251fe139915c59a26</th>\n",
              "      <td>609.0</td>\n",
              "    </tr>\n",
              "    <tr>\n",
              "      <th>perfumaria</th>\n",
              "      <th>2028bf1b01cafb2d2b1901fca4083222</th>\n",
              "      <td>604.0</td>\n",
              "    </tr>\n",
              "    <tr>\n",
              "      <th>relogios_presentes</th>\n",
              "      <th>a92930c327948861c015c919a0bcb4a8</th>\n",
              "      <td>601.0</td>\n",
              "    </tr>\n",
              "    <tr>\n",
              "      <th>consoles_games</th>\n",
              "      <th>0aabfb375647d9738ad0f7b4ea3653b1</th>\n",
              "      <td>597.0</td>\n",
              "    </tr>\n",
              "    <tr>\n",
              "      <th>moveis_decoracao</th>\n",
              "      <th>b532349fe46b38fbc7bb3914c1bdae07</th>\n",
              "      <td>593.0</td>\n",
              "    </tr>\n",
              "    <tr>\n",
              "      <th>cama_mesa_banho</th>\n",
              "      <th>06edb72f1e0c64b14c5b79353f7abea3</th>\n",
              "      <td>583.0</td>\n",
              "    </tr>\n",
              "    <tr>\n",
              "      <th>ferramentas_jardim</th>\n",
              "      <th>8c591ab0ca519558779df02023177f44</th>\n",
              "      <td>583.0</td>\n",
              "    </tr>\n",
              "    <tr>\n",
              "      <th rowspan=\"2\" valign=\"top\">relogios_presentes</th>\n",
              "      <th>7a10781637204d8d10485c71a6108a2e</th>\n",
              "      <td>579.0</td>\n",
              "    </tr>\n",
              "    <tr>\n",
              "      <th>461f43be3bdf8844e65b62d9ac2c7a5a</th>\n",
              "      <td>570.0</td>\n",
              "    </tr>\n",
              "    <tr>\n",
              "      <th>fashion_bolsas_e_acessorios</th>\n",
              "      <th>d017a2151d543a9885604dc62a3d9dcc</th>\n",
              "      <td>569.0</td>\n",
              "    </tr>\n",
              "    <tr>\n",
              "      <th>beleza_saude</th>\n",
              "      <th>3fbc0ef745950c7932d5f2a446189725</th>\n",
              "      <td>567.0</td>\n",
              "    </tr>\n",
              "    <tr>\n",
              "      <th>informatica_acessorios</th>\n",
              "      <th>656e0eca68dcecf6a31b8ececfabe3e8</th>\n",
              "      <td>560.0</td>\n",
              "    </tr>\n",
              "    <tr>\n",
              "      <th>cama_mesa_banho</th>\n",
              "      <th>ec2d43cc59763ec91694573b31f1c29a</th>\n",
              "      <td>529.0</td>\n",
              "    </tr>\n",
              "    <tr>\n",
              "      <th>ferramentas_jardim</th>\n",
              "      <th>b0961721fd839e9982420e807758a2a6</th>\n",
              "      <td>523.0</td>\n",
              "    </tr>\n",
              "    <tr>\n",
              "      <th rowspan=\"3\" valign=\"top\">cool_stuff</th>\n",
              "      <th>c6dd917a0be2a704582055949915ab32</th>\n",
              "      <td>509.0</td>\n",
              "    </tr>\n",
              "    <tr>\n",
              "      <th>601a360bd2a916ecef0e88de72a6531a</th>\n",
              "      <td>504.0</td>\n",
              "    </tr>\n",
              "    <tr>\n",
              "      <th>54d9ac713e253fa1fae9c8003b011c2a</th>\n",
              "      <td>496.0</td>\n",
              "    </tr>\n",
              "    <tr>\n",
              "      <th>ferramentas_jardim</th>\n",
              "      <th>52c80cedd4e90108bf4fa6a206ef6b03</th>\n",
              "      <td>494.0</td>\n",
              "    </tr>\n",
              "    <tr>\n",
              "      <th>relogios_presentes</th>\n",
              "      <th>6f3b5b605d91b7439c5e3f5a8dffeea7</th>\n",
              "      <td>475.0</td>\n",
              "    </tr>\n",
              "    <tr>\n",
              "      <th>ferramentas_jardim</th>\n",
              "      <th>0bcc3eeca39e1064258aa1e932269894</th>\n",
              "      <td>473.0</td>\n",
              "    </tr>\n",
              "    <tr>\n",
              "      <th>perfumaria</th>\n",
              "      <th>595fac2a385ac33a80bd5114aec74eb8</th>\n",
              "      <td>467.0</td>\n",
              "    </tr>\n",
              "    <tr>\n",
              "      <th>alimentos</th>\n",
              "      <th>89321f94e35fc6d7903d36f74e351d40</th>\n",
              "      <td>466.0</td>\n",
              "    </tr>\n",
              "    <tr>\n",
              "      <th>beleza_saude</th>\n",
              "      <th>4c2394abfbac7ff59ec7a420918562fa</th>\n",
              "      <td>456.0</td>\n",
              "    </tr>\n",
              "    <tr>\n",
              "      <th>relogios_presentes</th>\n",
              "      <th>d285360f29ac7fd97640bf0baef03de0</th>\n",
              "      <td>454.0</td>\n",
              "    </tr>\n",
              "    <tr>\n",
              "      <th>ferramentas_jardim</th>\n",
              "      <th>08574b074924071f4e201e151b152b4e</th>\n",
              "      <td>450.0</td>\n",
              "    </tr>\n",
              "    <tr>\n",
              "      <th>informatica_acessorios</th>\n",
              "      <th>36f60d45225e60c7da4558b070ce4b60</th>\n",
              "      <td>447.0</td>\n",
              "    </tr>\n",
              "    <tr>\n",
              "      <th>moveis_decoracao</th>\n",
              "      <th>78efe838c04bbc568be034082200ac20</th>\n",
              "      <td>442.0</td>\n",
              "    </tr>\n",
              "  </tbody>\n",
              "</table>\n",
              "</div>"
            ],
            "text/plain": [
              "                                                              review_score\n",
              "product_category_name       product_id                                    \n",
              "moveis_decoracao            aca2eb7d00ea1a7b8ebd4e68314663af        2106.0\n",
              "ferramentas_jardim          422879e10f46682990de24d770e7f83d        1918.0\n",
              "cama_mesa_banho             99a4788cb24856965c36a24e339b6058        1879.0\n",
              "ferramentas_jardim          389d119b48cf3043d311335e499d9c6b        1610.0\n",
              "                            368c6c730842d78016ad823897a372db        1522.0\n",
              "                            53759a2ecddad2bb87a079a1f1519f73        1443.0\n",
              "informatica_acessorios      d1c427060a0f73f6b889a5c7c61f2ac4        1426.0\n",
              "relogios_presentes          53b36df67ebb7c41585e8d54d6772e08        1341.0\n",
              "beleza_saude                154e7e31ebfa092203795c972e5804a6        1260.0\n",
              "informatica_acessorios      3dd2a17168ec895c781a9191c1e95ad7        1145.0\n",
              "beleza_saude                2b4609f8948be18874494203496bc318        1095.0\n",
              "                            7c1bd920dbdf22470b68bde975dd3ccf         911.0\n",
              "relogios_presentes          a62e25e09e05e6faf31d90c6ec1aa3d1         868.0\n",
              "beleza_saude                bb50f2e236e5eea0100680137654686c         828.0\n",
              "relogios_presentes          e0d64dcfaa3b6db5c54ca298ae101d05         729.0\n",
              "utilidades_domesticas       42a2c92a0979a949ca4ea89ec5c7b934         716.0\n",
              "beleza_saude                6cdd53843498f92890544667809f1595         669.0\n",
              "cama_mesa_banho             f1c7f353075ce59d8a6f3cf58f419c9c         665.0\n",
              "beleza_saude                437c05a395e9e47f9762e677a7068ce7         643.0\n",
              "informatica_acessorios      e53e557d5a159f5aa2c5e995dfdf244b         641.0\n",
              "beleza_saude                19c91ef95d509ea33eda93495c4d3481         638.0\n",
              "casa_conforto               35afc973633aaeb6b877ff57b2793310         638.0\n",
              "ferramentas_jardim          c4baedd846ed09b85f78a781b522f126         626.0\n",
              "beleza_saude                e0cf79767c5b016251fe139915c59a26         609.0\n",
              "perfumaria                  2028bf1b01cafb2d2b1901fca4083222         604.0\n",
              "relogios_presentes          a92930c327948861c015c919a0bcb4a8         601.0\n",
              "consoles_games              0aabfb375647d9738ad0f7b4ea3653b1         597.0\n",
              "moveis_decoracao            b532349fe46b38fbc7bb3914c1bdae07         593.0\n",
              "cama_mesa_banho             06edb72f1e0c64b14c5b79353f7abea3         583.0\n",
              "ferramentas_jardim          8c591ab0ca519558779df02023177f44         583.0\n",
              "relogios_presentes          7a10781637204d8d10485c71a6108a2e         579.0\n",
              "                            461f43be3bdf8844e65b62d9ac2c7a5a         570.0\n",
              "fashion_bolsas_e_acessorios d017a2151d543a9885604dc62a3d9dcc         569.0\n",
              "beleza_saude                3fbc0ef745950c7932d5f2a446189725         567.0\n",
              "informatica_acessorios      656e0eca68dcecf6a31b8ececfabe3e8         560.0\n",
              "cama_mesa_banho             ec2d43cc59763ec91694573b31f1c29a         529.0\n",
              "ferramentas_jardim          b0961721fd839e9982420e807758a2a6         523.0\n",
              "cool_stuff                  c6dd917a0be2a704582055949915ab32         509.0\n",
              "                            601a360bd2a916ecef0e88de72a6531a         504.0\n",
              "                            54d9ac713e253fa1fae9c8003b011c2a         496.0\n",
              "ferramentas_jardim          52c80cedd4e90108bf4fa6a206ef6b03         494.0\n",
              "relogios_presentes          6f3b5b605d91b7439c5e3f5a8dffeea7         475.0\n",
              "ferramentas_jardim          0bcc3eeca39e1064258aa1e932269894         473.0\n",
              "perfumaria                  595fac2a385ac33a80bd5114aec74eb8         467.0\n",
              "alimentos                   89321f94e35fc6d7903d36f74e351d40         466.0\n",
              "beleza_saude                4c2394abfbac7ff59ec7a420918562fa         456.0\n",
              "relogios_presentes          d285360f29ac7fd97640bf0baef03de0         454.0\n",
              "ferramentas_jardim          08574b074924071f4e201e151b152b4e         450.0\n",
              "informatica_acessorios      36f60d45225e60c7da4558b070ce4b60         447.0\n",
              "moveis_decoracao            78efe838c04bbc568be034082200ac20         442.0"
            ]
          },
          "metadata": {},
          "execution_count": 23
        }
      ]
    },
    {
      "cell_type": "markdown",
      "metadata": {
        "id": "57Je8iUcIyC5"
      },
      "source": [
        "#Verificando correlação"
      ]
    },
    {
      "cell_type": "code",
      "metadata": {
        "colab": {
          "base_uri": "https://localhost:8080/",
          "height": 506
        },
        "id": "H79kRQA7FE-i",
        "outputId": "b791a182-81b9-4468-d7be-ad2feb84fc78"
      },
      "source": [
        "plt.figure(figsize=(10, 8))\n",
        "plot = sn.heatmap(df.corr(), annot = True, fmt=\".2f\", linewidths=.5)\n",
        "plot"
      ],
      "execution_count": 24,
      "outputs": [
        {
          "output_type": "execute_result",
          "data": {
            "text/plain": [
              "<matplotlib.axes._subplots.AxesSubplot at 0x7fbfc3aa0b50>"
            ]
          },
          "metadata": {},
          "execution_count": 24
        },
        {
          "output_type": "display_data",
          "data": {
            "image/png": "[encoded data removed]",
            "text/plain": [
              "<Figure size 720x576 with 2 Axes>"
            ]
          },
          "metadata": {
            "needs_background": "light"
          }
        }
      ]
    },
    {
      "cell_type": "markdown",
      "metadata": {
        "id": "2-4tJL2KXC2J"
      },
      "source": [
        "#Verificando os clientes mais ativos"
      ]
    },
    {
      "cell_type": "code",
      "metadata": {
        "id": "BnI1HhQfFEiL"
      },
      "source": [
        "prod_id = df['product_id'].unique().tolist()\n",
        "prod_id.sort()\n",
        "\n",
        "\n",
        "user_count = df.groupby(by='customer_id', as_index=False) \\\n",
        "  .agg({'product_id': pd.Series.nunique}) \\\n",
        "  .rename(columns={'product_id': 'prod_count'})\n",
        "shop_count = user_count.set_index('customer_id')\n",
        "top1000_users = shop_count.sort_values('prod_count', ascending = False).head(1000)\n",
        "\n",
        "top_user_ids = top1000_users.index.tolist()\n",
        "top_user_ids.sort()"
      ],
      "execution_count": 25,
      "outputs": []
    },
    {
      "cell_type": "code",
      "metadata": {
        "colab": {
          "base_uri": "https://localhost:8080/"
        },
        "id": "6nKLyJx1u24s",
        "outputId": "988b8dd4-11b6-4444-97bb-0f706a2c44b1"
      },
      "source": [
        "sample = df[df['customer_id'].isin(top_user_ids)]\n",
        "sample.shape"
      ],
      "execution_count": 26,
      "outputs": [
        {
          "output_type": "execute_result",
          "data": {
            "text/plain": [
              "(2860, 9)"
            ]
          },
          "metadata": {},
          "execution_count": 26
        }
      ]
    },
    {
      "cell_type": "code",
      "metadata": {
        "colab": {
          "base_uri": "https://localhost:8080/"
        },
        "id": "fcxm9pLNmAtQ",
        "outputId": "9f14a75b-25f6-4b62-f37f-cd08ab947a67"
      },
      "source": [
        "def start_pipeline(dataf):\n",
        "    return dataf.copy()\n",
        "\n",
        "def get_user_counts(dataf):\n",
        "  return dataf.groupby(by='customer_id', as_index=False) \\\n",
        "    .agg({'product_id': pd.Series.nunique}) \\\n",
        "    .rename(columns={'product_id': 'product_count'}) \\\n",
        "    .set_index('customer_id') \\\n",
        "    .sort_values('product_count', ascending = False)\n",
        "\n",
        "def get_n_top_values(dataf, n):\n",
        "  return dataf.head(n) \\\n",
        "    .index \\\n",
        "    .tolist()\n",
        "\n",
        "top_user_ids = df \\\n",
        "  .pipe(start_pipeline) \\\n",
        "  .pipe(get_user_counts) \\\n",
        "  .pipe(get_n_top_values, n=1000)\n",
        "\n",
        "top_user_ids[:10]"
      ],
      "execution_count": 27,
      "outputs": [
        {
          "output_type": "execute_result",
          "data": {
            "text/plain": [
              "['0d861a5e4dd6a9079d89e1330848f0ab',\n",
              " 'a67a246af6ba598a14cc86df3c0354ee',\n",
              " '1205480caca6c37f55954da838933b8a',\n",
              " '30bb84b541c96af98ba7d90b9ebf35d0',\n",
              " '50920f8cd0681fd86ebe93670c8fe52e',\n",
              " 'c9dc6fff8500f3735822d5356bcb0e1b',\n",
              " 'be1c4e52bb71e0c54b11a26b8e8d59f2',\n",
              " 'c9b6ccc9f42e3ac60bb09a0f53a09973',\n",
              " 'e898b5ef24833b9cb9e2d4f00b937595',\n",
              " '5e312b0d9bf5c91599eb42120e633b19']"
            ]
          },
          "metadata": {},
          "execution_count": 27
        }
      ]
    },
    {
      "cell_type": "code",
      "metadata": {
        "colab": {
          "base_uri": "https://localhost:8080/"
        },
        "id": "VyuXAbWm89Ax",
        "outputId": "6e8a964b-0aa8-43c4-c074-4cd9f5d6276e"
      },
      "source": [
        "def get_products_counts(dataf):\n",
        "  return dataf.groupby(by='product_id', as_index=False) \\\n",
        "    .agg({'customer_id': pd.Series.nunique}) \\\n",
        "    .rename(columns={'customer_id': 'customer_id_count'}) \\\n",
        "    .set_index('product_id') \\\n",
        "    .sort_values('customer_id_count', ascending = False)\n",
        "\n",
        "top_product_ids = df \\\n",
        "  .pipe(start_pipeline) \\\n",
        "  .pipe(get_products_counts) \\\n",
        "  .pipe(get_n_top_values, n=999)\n",
        "\n",
        "top_product_ids[:10]"
      ],
      "execution_count": 36,
      "outputs": [
        {
          "output_type": "execute_result",
          "data": {
            "text/plain": [
              "['99a4788cb24856965c36a24e339b6058',\n",
              " 'aca2eb7d00ea1a7b8ebd4e68314663af',\n",
              " '422879e10f46682990de24d770e7f83d',\n",
              " 'd1c427060a0f73f6b889a5c7c61f2ac4',\n",
              " '389d119b48cf3043d311335e499d9c6b',\n",
              " '53b36df67ebb7c41585e8d54d6772e08',\n",
              " '368c6c730842d78016ad823897a372db',\n",
              " '53759a2ecddad2bb87a079a1f1519f73',\n",
              " '154e7e31ebfa092203795c972e5804a6',\n",
              " '2b4609f8948be18874494203496bc318']"
            ]
          },
          "metadata": {},
          "execution_count": 36
        }
      ]
    },
    {
      "cell_type": "code",
      "metadata": {
        "colab": {
          "base_uri": "https://localhost:8080/"
        },
        "id": "lZWPJiJ8YdVc",
        "outputId": "828feb66-160f-411f-bd46-25bc937ccd12"
      },
      "source": [
        " def transform_sample(dataf):\n",
        "    return pd.DataFrame({\n",
        "      \"cliente\": sample['customer_id'],\n",
        "      \"produto\": sample['product_id'],\n",
        "      \"acao\": sample['review_score']\n",
        "  })\n",
        "\n",
        "matriz_de_relacionamento_user_sampled = df[df[\"customer_id\"].isin(top_user_ids)] \\\n",
        "  .pipe(transform_sample) \\\n",
        "  .pivot_table(index=\"cliente\", columns=\"produto\", values=\"acao\").fillna(0)\n",
        "\n",
        "matriz_de_relacionamento_user_sampled.shape"
      ],
      "execution_count": 29,
      "outputs": [
        {
          "output_type": "execute_result",
          "data": {
            "text/plain": [
              "(982, 2056)"
            ]
          },
          "metadata": {},
          "execution_count": 29
        }
      ]
    },
    {
      "cell_type": "code",
      "metadata": {
        "colab": {
          "base_uri": "https://localhost:8080/"
        },
        "id": "Enx4FvhQ_uKM",
        "outputId": "2449f4df-fd28-4e1d-e833-2c74efd7183d"
      },
      "source": [
        "matriz_de_relacionamento_product_sampled = df[df[\"product_id\"].isin(top_product_ids)] \\\n",
        "  .pipe(transform_sample) \\\n",
        "  .pivot_table(index=\"produto\", columns=\"cliente\", values=\"acao\").fillna(0)\n",
        "\n",
        "matriz_de_relacionamento_product_sampled.shape"
      ],
      "execution_count": 30,
      "outputs": [
        {
          "output_type": "execute_result",
          "data": {
            "text/plain": [
              "(2056, 982)"
            ]
          },
          "metadata": {},
          "execution_count": 30
        }
      ]
    },
    {
      "cell_type": "code",
      "metadata": {
        "colab": {
          "base_uri": "https://localhost:8080/"
        },
        "id": "emfdkc5PANdA",
        "outputId": "e39cfab7-c8a0-425f-cbc1-c430b7fdf5f2"
      },
      "source": [
        "cos_user = cosine_similarity(matriz_de_relacionamento_user_sampled)\n",
        "\n",
        "print(cos_user)\n",
        "cos_user.shape"
      ],
      "execution_count": 31,
      "outputs": [
        {
          "output_type": "stream",
          "name": "stdout",
          "text": [
            "[[1. 0. 0. ... 0. 0. 0.]\n",
            " [0. 1. 0. ... 0. 0. 0.]\n",
            " [0. 0. 1. ... 0. 0. 0.]\n",
            " ...\n",
            " [0. 0. 0. ... 1. 0. 0.]\n",
            " [0. 0. 0. ... 0. 1. 0.]\n",
            " [0. 0. 0. ... 0. 0. 1.]]\n"
          ]
        },
        {
          "output_type": "execute_result",
          "data": {
            "text/plain": [
              "(982, 982)"
            ]
          },
          "metadata": {},
          "execution_count": 31
        }
      ]
    },
    {
      "cell_type": "code",
      "metadata": {
        "colab": {
          "base_uri": "https://localhost:8080/"
        },
        "id": "CtNYU1TPAaNm",
        "outputId": "eadc48a8-c0b4-42d1-b18c-7c32d1815b0a"
      },
      "source": [
        "cos_item = cosine_similarity(matriz_de_relacionamento_product_sampled)\n",
        "\n",
        "print(cos_item)\n",
        "cos_item.shape"
      ],
      "execution_count": 32,
      "outputs": [
        {
          "output_type": "stream",
          "name": "stdout",
          "text": [
            "[[1. 0. 0. ... 0. 0. 0.]\n",
            " [0. 1. 0. ... 0. 0. 0.]\n",
            " [0. 0. 1. ... 1. 0. 0.]\n",
            " ...\n",
            " [0. 0. 1. ... 1. 0. 0.]\n",
            " [0. 0. 0. ... 0. 1. 0.]\n",
            " [0. 0. 0. ... 0. 0. 1.]]\n"
          ]
        },
        {
          "output_type": "execute_result",
          "data": {
            "text/plain": [
              "(2056, 2056)"
            ]
          },
          "metadata": {},
          "execution_count": 32
        }
      ]
    },
    {
      "cell_type": "code",
      "metadata": {
        "colab": {
          "base_uri": "https://localhost:8080/"
        },
        "id": "ruPaESaBAlrq",
        "outputId": "ebdcd612-daf9-4468-b054-9afbf3446559"
      },
      "source": [
        "corr_users = np.corrcoef(matriz_de_relacionamento_user_sampled)\n",
        "\n",
        "print(corr_users)\n",
        "corr_users.shape"
      ],
      "execution_count": 33,
      "outputs": [
        {
          "output_type": "stream",
          "name": "stdout",
          "text": [
            "[[ 1.         -0.00146128 -0.00146128 ... -0.00146128 -0.00168775\n",
            "  -0.00146128]\n",
            " [-0.00146128  1.         -0.00146128 ... -0.00146128 -0.00168775\n",
            "  -0.00146128]\n",
            " [-0.00146128 -0.00146128  1.         ... -0.00146128 -0.00168775\n",
            "  -0.00146128]\n",
            " ...\n",
            " [-0.00146128 -0.00146128 -0.00146128 ...  1.         -0.00168775\n",
            "  -0.00146128]\n",
            " [-0.00168775 -0.00168775 -0.00168775 ... -0.00168775  1.\n",
            "  -0.00168775]\n",
            " [-0.00146128 -0.00146128 -0.00146128 ... -0.00146128 -0.00168775\n",
            "   1.        ]]\n"
          ]
        },
        {
          "output_type": "execute_result",
          "data": {
            "text/plain": [
              "(982, 982)"
            ]
          },
          "metadata": {},
          "execution_count": 33
        }
      ]
    },
    {
      "cell_type": "code",
      "metadata": {
        "colab": {
          "base_uri": "https://localhost:8080/"
        },
        "id": "GqQDDqB8A0fI",
        "outputId": "a7aea420-f698-4fb4-90a4-65460d9110fa"
      },
      "source": [
        "corr_items = np.corrcoef(matriz_de_relacionamento_product_sampled)\n",
        "\n",
        "print(corr_items)\n",
        "corr_items.shape"
      ],
      "execution_count": 34,
      "outputs": [
        {
          "output_type": "stream",
          "name": "stdout",
          "text": [
            "[[ 1.         -0.00101937 -0.00101937 ... -0.00101937 -0.00101937\n",
            "  -0.00101937]\n",
            " [-0.00101937  1.         -0.00101937 ... -0.00101937 -0.00101937\n",
            "  -0.00101937]\n",
            " [-0.00101937 -0.00101937  1.         ...  1.         -0.00101937\n",
            "  -0.00101937]\n",
            " ...\n",
            " [-0.00101937 -0.00101937  1.         ...  1.         -0.00101937\n",
            "  -0.00101937]\n",
            " [-0.00101937 -0.00101937 -0.00101937 ... -0.00101937  1.\n",
            "  -0.00101937]\n",
            " [-0.00101937 -0.00101937 -0.00101937 ... -0.00101937 -0.00101937\n",
            "   1.        ]]\n"
          ]
        },
        {
          "output_type": "execute_result",
          "data": {
            "text/plain": [
              "(2056, 2056)"
            ]
          },
          "metadata": {},
          "execution_count": 34
        }
      ]
    },
    {
      "cell_type": "code",
      "metadata": {
        "colab": {
          "base_uri": "https://localhost:8080/"
        },
        "id": "tIu_boEmBZXl",
        "outputId": "21ce4e81-607a-4905-f8c3-0fb98216cec1"
      },
      "source": [
        "prodint = matriz_de_relacionamento_product_sampled.index[-1]\n",
        "\n",
        "print(f\"Produto de interesse: {prodint}\")\n",
        "\n",
        "prdidx = matriz_de_relacionamento_product_sampled.index.tolist().index(prodint)\n",
        "print(f\"Produto de id: {prodint},tem índice {prdidx}\")\n",
        "\n",
        "closest_10_products = np.argsort(-corr_items[prdidx])[:10]\n",
        "\n",
        "for i in zip(matriz_de_relacionamento_product_sampled.index[closest_10_products], corr_items[prdidx][closest_10_products]):\n",
        "    print(f\"Produto {i[0]} tem similaridade de {i[1]:.5f} com o produto {prodint}\")"
      ],
      "execution_count": 35,
      "outputs": [
        {
          "output_type": "stream",
          "name": "stdout",
          "text": [
            "Produto de interesse: fff1059cd247279f3726b7696c66e44e\n",
            "Produto de id: fff1059cd247279f3726b7696c66e44e,tem índice 2055\n",
            "Produto fff1059cd247279f3726b7696c66e44e tem similaridade de 1.00000 com o produto fff1059cd247279f3726b7696c66e44e\n",
            "Produto 2beea058d80efa4403a56673a219352d tem similaridade de 1.00000 com o produto fff1059cd247279f3726b7696c66e44e\n",
            "Produto d0efdc4a1cc12f88f6a290fda8861fa7 tem similaridade de -0.00102 com o produto fff1059cd247279f3726b7696c66e44e\n",
            "Produto e5f8f7fec18736ea009f2f7334543497 tem similaridade de -0.00102 com o produto fff1059cd247279f3726b7696c66e44e\n",
            "Produto 84f47b7ffbd21c845d197cc0a7bc479a tem similaridade de -0.00102 com o produto fff1059cd247279f3726b7696c66e44e\n",
            "Produto cfb133b7458336455fa60b97ac3aaba9 tem similaridade de -0.00102 com o produto fff1059cd247279f3726b7696c66e44e\n",
            "Produto effa78286556d5e79cda2b4aba96a534 tem similaridade de -0.00102 com o produto fff1059cd247279f3726b7696c66e44e\n",
            "Produto 0dce4d890959f0607b58e7475d13fc86 tem similaridade de -0.00102 com o produto fff1059cd247279f3726b7696c66e44e\n",
            "Produto b230bd784da7f2bb53eaadc273982cda tem similaridade de -0.00102 com o produto fff1059cd247279f3726b7696c66e44e\n",
            "Produto a9eea144b709e6d670c9bf03ffc2dc2e tem similaridade de -0.00102 com o produto fff1059cd247279f3726b7696c66e44e\n"
          ]
        }
      ]
    }
  ]
}